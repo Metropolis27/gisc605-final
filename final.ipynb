{
  "nbformat": 4,
  "nbformat_minor": 0,
  "metadata": {
    "colab": {
      "provenance": []
    },
    "kernelspec": {
      "name": "python3",
      "display_name": "Python 3"
    },
    "language_info": {
      "name": "python"
    }
  },
  "cells": [
    {
      "cell_type": "code",
      "execution_count": 3,
      "metadata": {
        "colab": {
          "base_uri": "https://localhost:8080/"
        },
        "id": "nbBKS93W7Lo6",
        "outputId": "8a3ca6ce-3f51-4ca5-f7e0-e271c580a0cd"
      },
      "outputs": [
        {
          "output_type": "stream",
          "name": "stdout",
          "text": [
            "Howdy planet!\n"
          ]
        }
      ],
      "source": [
        "def howdy_planet():\n",
        "  print(\"Howdy planet!\")\n",
        "\n",
        "howdy_planet()"
      ]
    },
    {
      "cell_type": "code",
      "source": [
        "directions = [\"North\", \"South\", \"East\", \"West\"]\n",
        "print(directions)"
      ],
      "metadata": {
        "colab": {
          "base_uri": "https://localhost:8080/"
        },
        "id": "Z2Ga4JUO8M19",
        "outputId": "75785f4b-252d-4021-e4f4-e9ae41b660cb"
      },
      "execution_count": 7,
      "outputs": [
        {
          "output_type": "stream",
          "name": "stdout",
          "text": [
            "['North', 'South', 'East', 'West']\n"
          ]
        }
      ]
    },
    {
      "cell_type": "code",
      "source": [
        "for direction in directions:\n",
        "  print(direction)"
      ],
      "metadata": {
        "colab": {
          "base_uri": "https://localhost:8080/"
        },
        "id": "zAaEyQt58lCJ",
        "outputId": "18709234-2e56-4949-86a6-69975748c916"
      },
      "execution_count": 8,
      "outputs": [
        {
          "output_type": "stream",
          "name": "stdout",
          "text": [
            "North\n",
            "South\n",
            "East\n",
            "West\n"
          ]
        }
      ]
    }
  ]
}